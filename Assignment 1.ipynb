{
 "cells": [
  {
   "cell_type": "markdown",
   "metadata": {},
   "source": [
    "### Please, enter your name-\n",
    "\n",
    "**Name:**  Omitted"
   ]
  },
  {
   "cell_type": "markdown",
   "metadata": {},
   "source": [
    "### Question 1.\n",
    "\n",
    "Please develop a program that starts by taking an integer representing seconds (e.g. 100 means 100 seconds) from the user. Then your program should display the equivalent amount of time in the format of D:H:M:S, where D, H, M, and S represent days, hours, minutes and seconds, respectively. \n",
    "\n",
    "For example, <code>1000000</code> seconds is equivalent to <code>11:13:46:40</code>.\n",
    "\n",
    "**Hint**: There are 24 * 60 * 60 seconds in a day. You can first calculate how many full days there are and keep the *remaining* seconds for further processing."
   ]
  },
  {
   "cell_type": "code",
   "execution_count": 12,
   "metadata": {},
   "outputs": [
    {
     "name": "stdout",
     "output_type": "stream",
     "text": [
      "Please, specify the number of seconds: 1000000\n",
      "The equivalent amount of time to the given seconds in D:H:M:S => 11:13:46:40\n"
     ]
    }
   ],
   "source": [
    "## Your program starts from here:\n",
    "\n",
    "t = int(input(\"Please, specify the number of seconds: \"))\n",
    "\n",
    "def ConvertingSeconds2DHMS(t) :  ## Defining Function\n",
    "    \n",
    "    days = t // (24 * 60 * 60) ## Calculating Days\n",
    "    t %= (24 * 60 * 60) ## Remaining Seconds after calculating Days\n",
    "\n",
    "    hours = t // (60*60) ## Calculating Hours\n",
    "    t %= (60*60)  ## Remaining Seconds after calculating Hours\n",
    "\n",
    "    minutes = t // 60 ## Calculating Minutes\n",
    "    t %= 60  ## Remaining Seconds after calculating Minutes\n",
    "\n",
    "    seconds = t  ## Seconds Left\n",
    "    \n",
    "    ## Priniting the Result according to asked format\n",
    "    print(\"The equivalent amount of time to the given seconds in D:H:M:S => \"'%d:%d:%d:%d' % (days, hours, minutes, seconds))\n",
    "    \n",
    "ConvertingSeconds2DHMS(t)  ## Calling the Function"
   ]
  },
  {
   "cell_type": "markdown",
   "metadata": {},
   "source": [
    "### Question 2.\n",
    "\n",
    "A Finnish Social Security Number (SSN) is a sequence of 11 characters, which is formed on the basis of the holder's date of birth and gender. An elucidation of the Finnish SSN is available on the website of [Digital and Population Data Services Agency](https://dvv.fi/en/personal-identity-code), which is also given below:\n",
    "\n",
    "> Anna Suomalainen’s personal identity code is 131052-308T. The first part of it - 131052 - tells us the day, month and year of her birth, in the form ddmmyy. Thus, her date of birth is 13 October 1952. <br><br>\n",
    "The sign after the date of birth tells us the century in which she was born. In Anna’s case the sign is a hyphen (-) as she was born in the 1900s. Those born in the 1800s have a plus (+) and those born in the 2000s have the letter A. <br><br>\n",
    "The individual number, which for Anna is 308, distinguishes persons with the same date of birth from each other. Men have an odd number and women an even number. In practice, all individual numbers issued are between 002 and 899.\n",
    "\n",
    "Please create a program that takes a Finnish SSN from the user. You program should check if the input Finnish SSN satisfies the following conditions or not:\n",
    "- There must be exactly 11 characters.\n",
    "- The day and month of birth must be valid.\n",
    "- The sign indicating the century of birth must be one of the three valid characters. \\\n",
    " (**Hint**: You can use the <code>in</code> keyword, such as <code>sign in ['-','A','+']</code>, which will return <code>True</code> if <code>sign</code> is one of the three characters.)\n",
    "- The individual number must be between 002 and 899 (both inclusive).\n",
    "\n",
    "If the input Finnish SSN is valid (*i.e.*, all the aforementioned conditions are satisfied), your program should display:\n",
    "- the date of birth (in the format of **dd.mm.yyyy**) of the holder\n",
    "- the **gender** of the holder\n",
    "\n",
    "Otherwise, your program should return a warning message."
   ]
  },
  {
   "cell_type": "code",
   "execution_count": 16,
   "metadata": {},
   "outputs": [
    {
     "name": "stdout",
     "output_type": "stream",
     "text": [
      "Please, specify a SSN: 010788-335T\n",
      "The date of birth of the holder is: 01.07.1988\n",
      "The gender of the holder is: Male\n"
     ]
    }
   ],
   "source": [
    "## Your program starts from here:\n",
    "\n",
    "SSN = input(\"Please, specify a SSN: \").upper()\n",
    "\n",
    "def checkSSN(SSN):\n",
    "    \n",
    "    length = len(SSN)\n",
    "\n",
    "    i1 = SSN[:2]\n",
    "    i2 = SSN[2:4]\n",
    "    i3 = SSN[4:6]\n",
    "\n",
    "    i4 = SSN[:6]\n",
    "    i5 = SSN[6]\n",
    "    i6 = SSN[7:10]\n",
    "    i7 = SSN[-1]\n",
    "\n",
    "    x = 0\n",
    "\n",
    "    if (length == 11) and (1 <= int(i1) <= 31) and (1 <= int(i2) <= 12) and (i5 in ['-', 'A', '+']) \\\n",
    "    and (2 <= int(i6) <= 899) and ((int(i2) in [6, 9, 11] and int(i1) <= 30) or (int(i2) == 2 \\\n",
    "    and int(i1) <= 29) or (int(i2) in [1, 3, 5, 7, 8, 10, 12] and int(i1) <= 31)): \n",
    "        pass\n",
    "    else:\n",
    "        return 'Invalid SSN'\n",
    "\n",
    "    if i5 == '+':\n",
    "        x = int(i3) + 1800\n",
    "    elif i5 == '-':\n",
    "        x = int(i3) + 1900\n",
    "    elif i5 == 'A':\n",
    "        x = int(i3) + 2000 \n",
    "\n",
    "    print(\"The date of birth of the holder is: \"'%s.%s.%s' % (i1, i2, x))\n",
    "\n",
    "    if int(i6) % 2 == 0:\n",
    "        gender = 'Female'\n",
    "    else:\n",
    "        gender = 'Male'\n",
    "        \n",
    "    print(\"The gender of the holder is:\", gender)\n",
    "\n",
    "checkSSN(SSN)"
   ]
  },
  {
   "cell_type": "markdown",
   "metadata": {},
   "source": [
    "### Question 3.\n",
    "\n",
    "A year is usually divided into four seasons: Spring, Summer, Fall and Winter. Although the exact dates at which the season changes vary slightly from year to year because of the way that the calendar is constructed, we can use the following **starting dates** for simplicity:\n",
    "- Spring: March 20\n",
    "- Summer: June 21\n",
    "- Autumn: September 22\n",
    "- Winter: December 21\n",
    "\n",
    "Please create a program that takes a month and a day seperately from the user. The user will first enter the name of the month (as a string), then the day within the month (as an integer). Your program should display the corresponding season to the date that has been entered."
   ]
  },
  {
   "cell_type": "code",
   "execution_count": 4,
   "metadata": {},
   "outputs": [
    {
     "name": "stdout",
     "output_type": "stream",
     "text": [
      "Please, specify a name of the Month: june\n",
      "Please, specify a Day within the month: 21\n",
      "The corresponding Season to the date entered is: Summer\n"
     ]
    }
   ],
   "source": [
    "## Your program starts from here:\n",
    "\n",
    "month = input(\"Please, specify a name of the Month: \").casefold()\n",
    "day = int(input(\"Please, specify a Day within the month: \"))\n",
    "       \n",
    "if month in ('january', 'february'):\n",
    "    season = 'Winter'\n",
    "elif month in ('april', 'may'):\n",
    "    season = 'Spring'\n",
    "elif month in ('july', 'august'):\n",
    "    season = 'Summer'\n",
    "else: \n",
    "    season = 'Autumn'\n",
    "\n",
    "if (month == 'march' and day >= 20) or (month == 'june' and day <= 20):\n",
    "    season = 'Spring'\n",
    "elif (month == 'june' and day >= 21) or (month == 'september' and day <= 21):\n",
    "        season = 'Summer'\n",
    "elif (month == 'september' and day >= 22) or (month == 'december' and day <= 20):\n",
    "        season = 'Autumn'\n",
    "elif (month == 'december' and day >= 21) or (month == 'march' and day <= 19):\n",
    "    season = 'Winter'\n",
    "\n",
    "if month in ('january', 'february', 'march', 'april', 'may', 'june', 'july', 'august', 'september', \\\n",
    "                  'october', 'november', 'december') and (1 <= day <= 31):\n",
    "    print(\"The corresponding Season to the date entered is:\",season)\n",
    "else:\n",
    "    print('invalid input')   "
   ]
  },
  {
   "cell_type": "markdown",
   "metadata": {},
   "source": [
    "### Question 4.\n",
    "\n",
    "A zoo determines the price of admission based on the age of the guest:\n",
    " - Guests of 2 years old or less are admitted without charge.\n",
    " - Children between 3 and 12 years of age (both inclusive) cost 14.00 euro per person.\n",
    " - Seniors aged 65 years or over cost 18.00 euro perperson.\n",
    " - Admission charge for all other guests is 23.00 euro per person.\n",
    "\n",
    "You will be given a list of the ages of a group visiting the zoo. Please create a program that displays the total admission cost for the group."
   ]
  },
  {
   "cell_type": "code",
   "execution_count": 6,
   "metadata": {},
   "outputs": [
    {
     "name": "stdout",
     "output_type": "stream",
     "text": [
      "The total admission cost for the group is: 78.00 euro\n"
     ]
    }
   ],
   "source": [
    "## The given list of ages:\n",
    "\n",
    "age_list = [3, 33, 42, 70, 1]\n",
    "\n",
    "## Your progarm starts from here:\n",
    "\n",
    "admCost = 0.00\n",
    "\n",
    "for age in age_list:\n",
    "    if age <= 2:\n",
    "        admCost += 0.00\n",
    "    elif 3 <= age <= 12:\n",
    "        admCost += 14.00\n",
    "    elif age >= 65:\n",
    "        admCost += 18.00\n",
    "    else:\n",
    "        admCost += 23.00\n",
    "        \n",
    "print(\"The total admission cost for the group is:\", '%.2f'% admCost, \"euro\")"
   ]
  },
  {
   "cell_type": "markdown",
   "metadata": {},
   "source": [
    "### Question 5.\n",
    "\n",
    "In the game of Scrabble, each letter has points associated with it. The total score of a word is the sum of the scores of its letters. More common letters are worth fewer points while less common letters are worth more points. The points associated with each letter are given below as a dictionary. \n",
    "\n",
    "Please write a program that takes a word from the user, then computes and displays the Scrabble score for this word.\n",
    "\n",
    "Note: A Scrabble board includes some squares that multiply the value of a letter or the value of an entire word. For simplicity, we will ignore these squares in this exercise."
   ]
  },
  {
   "cell_type": "code",
   "execution_count": 10,
   "metadata": {},
   "outputs": [
    {
     "name": "stdout",
     "output_type": "stream",
     "text": [
      "Please, specify a word: Xray\n",
      "The Scrabble Score for the given word is: 14\n"
     ]
    }
   ],
   "source": [
    "## The dictionary below maps from letters to point values. You can use the dictionary to compute the score.\n",
    "\n",
    "letter_to_point = {\"A\":1, \"B\":3, \"C\":3, \"D\":2, \"E\":1, \"F\":4, \\\n",
    "                   \"G\":2, \"H\":4, \"I\":1, \"J\":2, \"K\":5, \"L\":1, \\\n",
    "                   \"M\":3, \"N\":1, \"O\":1, \"P\":3, \"Q\":10,\"R\":1, \\\n",
    "                   \"S\":1, \"T\":1, \"U\":1, \"V\":4, \"W\":4, \"X\":8, \\\n",
    "                   \"Y\":4, \"Z\":10}\n",
    "\n",
    "## Your program starts from here:\n",
    "\n",
    "userWord = input(\"Please, specify a word: \").upper() ## User input WORD in Capital letters\n",
    "\n",
    "total = 0  ## Initial total score\n",
    "\n",
    "for i in userWord: ## looks at the value for each Letter in the given Word\n",
    "    total += letter_to_point[i]  ## Adding the score for each Letter in the given Word\n",
    "\n",
    "print(\"The Scrabble Score for the given word is:\", total) ## Printing the Asked Result"
   ]
  },
  {
   "cell_type": "markdown",
   "metadata": {},
   "source": [
    "### Question 6.\n",
    "\n",
    "Please extract 'hello' from the following nested dictionary using indexing."
   ]
  },
  {
   "cell_type": "code",
   "execution_count": 30,
   "metadata": {},
   "outputs": [
    {
     "data": {
      "text/plain": [
       "'hello'"
      ]
     },
     "execution_count": 30,
     "metadata": {},
     "output_type": "execute_result"
    }
   ],
   "source": [
    "## The dictionary is given as follows:\n",
    "\n",
    "nested_dict = {'level_1':[1, 'two', {'level_2':['you are close', {'almost there':['one', 2, ['hello']]}]}]}\n",
    "\n",
    "## Your program starts from here:\n",
    "\n",
    "nested_dict['level_1'][-1]['level_2'][-1]['almost there'][-1][0]\n"
   ]
  },
  {
   "cell_type": "code",
   "execution_count": null,
   "metadata": {},
   "outputs": [],
   "source": []
  }
 ],
 "metadata": {
  "kernelspec": {
   "display_name": "Python 3",
   "language": "python",
   "name": "python3"
  },
  "language_info": {
   "codemirror_mode": {
    "name": "ipython",
    "version": 3
   },
   "file_extension": ".py",
   "mimetype": "text/x-python",
   "name": "python",
   "nbconvert_exporter": "python",
   "pygments_lexer": "ipython3",
   "version": "3.7.6"
  }
 },
 "nbformat": 4,
 "nbformat_minor": 4
}
